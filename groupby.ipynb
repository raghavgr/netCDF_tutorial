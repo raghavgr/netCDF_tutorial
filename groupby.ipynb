{
 "cells": [
  {
   "cell_type": "code",
   "execution_count": 51,
   "metadata": {},
   "outputs": [],
   "source": [
    "import xarray as xr\n",
    "import numpy as np\n",
    "import pandas as pd\n",
    "import matplotlib.pyplot as plt\n",
    "import datetime"
   ]
  },
  {
   "cell_type": "code",
   "execution_count": 3,
   "metadata": {},
   "outputs": [],
   "source": [
    "ds = xr.Dataset({'foo': (('x', 'y'), np.random.rand(4, 3))}, coords={'x': [10, 20, 30, 40], 'letters': ('x', list('abba'))})\n"
   ]
  },
  {
   "cell_type": "code",
   "execution_count": 7,
   "metadata": {},
   "outputs": [
    {
     "data": {
      "text/plain": [
       "(4, 3)"
      ]
     },
     "execution_count": 7,
     "metadata": {},
     "output_type": "execute_result"
    }
   ],
   "source": [
    "ds.foo.shape"
   ]
  },
  {
   "cell_type": "code",
   "execution_count": 7,
   "metadata": {},
   "outputs": [
    {
     "data": {
      "text/plain": [
       "<xarray.core.groupby.DatasetGroupBy at 0x3148d1780>"
      ]
     },
     "execution_count": 7,
     "metadata": {},
     "output_type": "execute_result"
    }
   ],
   "source": [
    "ds.groupby('letters')"
   ]
  },
  {
   "cell_type": "code",
   "execution_count": 8,
   "metadata": {},
   "outputs": [
    {
     "data": {
      "text/plain": [
       "{'a': [0, 3], 'b': [1, 2]}"
      ]
     },
     "execution_count": 8,
     "metadata": {},
     "output_type": "execute_result"
    }
   ],
   "source": [
    "ds.groupby('letters').groups"
   ]
  },
  {
   "cell_type": "code",
   "execution_count": 9,
   "metadata": {},
   "outputs": [
    {
     "data": {
      "text/plain": [
       "[('a', <xarray.Dataset>\n",
       "  Dimensions:  (x: 2, y: 3)\n",
       "  Coordinates:\n",
       "    * x        (x) int64 10 40\n",
       "      letters  (x) <U1 'a' 'a'\n",
       "  Dimensions without coordinates: y\n",
       "  Data variables:\n",
       "      foo      (x, y) float64 0.5128 0.6808 0.1599 0.7797 0.6443 0.7016),\n",
       " ('b', <xarray.Dataset>\n",
       "  Dimensions:  (x: 2, y: 3)\n",
       "  Coordinates:\n",
       "    * x        (x) int64 20 30\n",
       "      letters  (x) <U1 'b' 'b'\n",
       "  Dimensions without coordinates: y\n",
       "  Data variables:\n",
       "      foo      (x, y) float64 0.7531 0.6201 0.4595 0.1748 0.4371 0.07166)]"
      ]
     },
     "execution_count": 9,
     "metadata": {},
     "output_type": "execute_result"
    }
   ],
   "source": [
    "list(ds.groupby('letters'))"
   ]
  },
  {
   "cell_type": "code",
   "execution_count": 13,
   "metadata": {},
   "outputs": [],
   "source": [
    "def standardize(x):\n",
    "    return (x - x.mean()) / x.std()"
   ]
  },
  {
   "cell_type": "code",
   "execution_count": 27,
   "metadata": {},
   "outputs": [
    {
     "data": {
      "text/plain": [
       "<xarray.DataArray 'foo' (x: 4, y: 3)>\n",
       "array([[0.955353, 0.473226, 0.659576],\n",
       "       [0.450907, 0.609228, 0.907043],\n",
       "       [0.823839, 0.685852, 0.660258],\n",
       "       [0.091461, 0.839526, 0.102883]])\n",
       "Coordinates:\n",
       "  * x        (x) int64 10 20 30 40\n",
       "    letters  (x) <U1 'a' 'b' 'b' 'a'\n",
       "Dimensions without coordinates: y"
      ]
     },
     "execution_count": 27,
     "metadata": {},
     "output_type": "execute_result"
    }
   ],
   "source": [
    "arr = ds['foo']\n",
    "arr"
   ]
  },
  {
   "cell_type": "code",
   "execution_count": 38,
   "metadata": {},
   "outputs": [
    {
     "data": {
      "text/plain": [
       "{'a': [0, 3], 'b': [1, 2]}"
      ]
     },
     "execution_count": 38,
     "metadata": {},
     "output_type": "execute_result"
    }
   ],
   "source": [
    "arr.groupby('letters').groups"
   ]
  },
  {
   "cell_type": "code",
   "execution_count": 16,
   "metadata": {},
   "outputs": [
    {
     "data": {
      "text/plain": [
       "<xarray.DataArray 'foo' (x: 4, y: 3)>\n",
       "array([[ 1.300892, -0.140886,  0.416387],\n",
       "       [-1.623498, -0.546305,  1.479989],\n",
       "       [ 0.913879, -0.024964, -0.199101],\n",
       "       [-1.282535,  0.954519, -1.248378]])\n",
       "Coordinates:\n",
       "  * x        (x) int64 10 20 30 40\n",
       "    letters  (x) <U1 'a' 'b' 'b' 'a'\n",
       "Dimensions without coordinates: y"
      ]
     },
     "execution_count": 16,
     "metadata": {},
     "output_type": "execute_result"
    }
   ],
   "source": [
    "#arr.groupby('letters').apply(standardize)"
   ]
  },
  {
   "cell_type": "code",
   "execution_count": 28,
   "metadata": {},
   "outputs": [
    {
     "data": {
      "text/plain": [
       "<xarray.Dataset>\n",
       "Dimensions:  (letters: 2, y: 3)\n",
       "Coordinates:\n",
       "  * letters  (letters) object 'a' 'b'\n",
       "Dimensions without coordinates: y\n",
       "Data variables:\n",
       "    foo      (letters, y) float64 0.9554 0.4732 0.6596 0.4509 0.6092 0.907"
      ]
     },
     "execution_count": 28,
     "metadata": {},
     "output_type": "execute_result"
    }
   ],
   "source": [
    "ds.groupby('letters').first()"
   ]
  },
  {
   "cell_type": "code",
   "execution_count": 29,
   "metadata": {},
   "outputs": [
    {
     "data": {
      "text/plain": [
       "{0: 0, 1: 1, 2: 2}"
      ]
     },
     "execution_count": 29,
     "metadata": {},
     "output_type": "execute_result"
    }
   ],
   "source": [
    "ds.groupby('y').groups"
   ]
  },
  {
   "cell_type": "code",
   "execution_count": 30,
   "metadata": {},
   "outputs": [
    {
     "data": {
      "text/plain": [
       "<xarray.DataArray 'letters' (x: 4)>\n",
       "array(['a', 'b', 'b', 'a'], dtype='<U1')\n",
       "Coordinates:\n",
       "  * x        (x) int64 10 20 30 40\n",
       "    letters  (x) <U1 'a' 'b' 'b' 'a'"
      ]
     },
     "execution_count": 30,
     "metadata": {},
     "output_type": "execute_result"
    }
   ],
   "source": [
    "ds['letters']"
   ]
  },
  {
   "cell_type": "code",
   "execution_count": 36,
   "metadata": {},
   "outputs": [
    {
     "data": {
      "text/plain": [
       "<xarray.DataArray 'foo' (letters: 2)>\n",
       "array([0.520337, 0.689521])\n",
       "Coordinates:\n",
       "  * letters  (letters) object 'a' 'b'"
      ]
     },
     "execution_count": 36,
     "metadata": {},
     "output_type": "execute_result"
    }
   ],
   "source": [
    "alt = arr.groupby('letters').mean()\n",
    "alt"
   ]
  },
  {
   "cell_type": "code",
   "execution_count": 37,
   "metadata": {},
   "outputs": [
    {
     "data": {
      "text/plain": [
       "{'a': [0, 3], 'b': [1, 2]}"
      ]
     },
     "execution_count": 37,
     "metadata": {},
     "output_type": "execute_result"
    }
   ],
   "source": [
    "ds.groupby('letters').groups"
   ]
  },
  {
   "cell_type": "code",
   "execution_count": 69,
   "metadata": {},
   "outputs": [
    {
     "data": {
      "text/plain": [
       "<xarray.Dataset>\n",
       "Dimensions:         (latitude: 128, longitude: 112, nb2: 2, time: 396)\n",
       "Coordinates:\n",
       "  * longitude       (longitude) float32 -123.96875 -123.90625 -123.84375 ...\n",
       "  * latitude        (latitude) float32 35.03125 35.09375 35.15625 35.21875 ...\n",
       "  * time            (time) datetime64[ns] 1980-01-31 1980-02-29 1980-03-31 ...\n",
       "Dimensions without coordinates: nb2\n",
       "Data variables:\n",
       "    longitude_bnds  (longitude, nb2) float32 ...\n",
       "    latitude_bnds   (latitude, nb2) float32 ...\n",
       "    pr              (time, latitude, longitude) float32 ...\n",
       "Attributes:\n",
       "    CDI:                Climate Data Interface version 1.6.1 (http://code.zma...\n",
       "    Conventions:        GDT 1.2\n",
       "    history:            Fri Jan 19 20:57:17 2018: cdo -O monavg /data5/emaure...\n",
       "    institution:        DOE, Santa Clara University\n",
       "    file_name:          DOE_VIC.narr_wrf.daily.pr.1980.nc\n",
       "    History:            Archived 2017\n",
       "    authors:            Maurer, E., SCU\n",
       "    description:        Daily VIC Output\n",
       "    creation_date:      2017\n",
       "    SurfSgnConvention:  Traditional\n",
       "    CDO:                Climate Data Operators version 1.6.1 (http://code.zma..."
      ]
     },
     "execution_count": 69,
     "metadata": {},
     "output_type": "execute_result"
    }
   ],
   "source": [
    "ds_pr = xr.open_dataset('./DOE_VIC.narr_wrf.monthly.pr.1980-2012.nc')\n",
    "ds_pr_future = xr.open_dataset('./DOE_VIC.narr_wrf.monthly.pr.2091-2100.nc')\n",
    "ds_pr"
   ]
  },
  {
   "cell_type": "code",
   "execution_count": 54,
   "metadata": {},
   "outputs": [],
   "source": [
    "#pr_apr = ds_pr.groupby('time.month')\n",
    "#pr_apr.groups"
   ]
  },
  {
   "cell_type": "code",
   "execution_count": 57,
   "metadata": {},
   "outputs": [],
   "source": [
    "def mean(x):\n",
    "    return x.mean()"
   ]
  },
  {
   "cell_type": "code",
   "execution_count": 58,
   "metadata": {},
   "outputs": [
    {
     "data": {
      "text/plain": [
       "[<matplotlib.lines.Line2D at 0x10d7c6f60>]"
      ]
     },
     "execution_count": 58,
     "metadata": {},
     "output_type": "execute_result"
    },
    {
     "data": {
      "image/png": "[encoded data removed]",
      "text/plain": [
       "<Figure size 432x288 with 1 Axes>"
      ]
     },
     "metadata": {},
     "output_type": "display_data"
    }
   ],
   "source": [
    "ds_pr['pr'].groupby('time.month').apply(mean).plot()"
   ]
  },
  {
   "cell_type": "code",
   "execution_count": 84,
   "metadata": {},
   "outputs": [
    {
     "data": {
      "text/plain": [
       "<xarray.DataArray 'pr' (season: 4, latitude: 128, longitude: 112)>\n",
       "array([[[nan, nan, ..., nan, nan],\n",
       "        [nan, nan, ..., nan, nan],\n",
       "        ...,\n",
       "        [nan, nan, ..., nan, nan],\n",
       "        [nan, nan, ..., nan, nan]],\n",
       "\n",
       "       [[nan, nan, ..., nan, nan],\n",
       "        [nan, nan, ..., nan, nan],\n",
       "        ...,\n",
       "        [nan, nan, ..., nan, nan],\n",
       "        [nan, nan, ..., nan, nan]],\n",
       "\n",
       "       [[nan, nan, ..., nan, nan],\n",
       "        [nan, nan, ..., nan, nan],\n",
       "        ...,\n",
       "        [nan, nan, ..., nan, nan],\n",
       "        [nan, nan, ..., nan, nan]],\n",
       "\n",
       "       [[nan, nan, ..., nan, nan],\n",
       "        [nan, nan, ..., nan, nan],\n",
       "        ...,\n",
       "        [nan, nan, ..., nan, nan],\n",
       "        [nan, nan, ..., nan, nan]]], dtype=float32)\n",
       "Coordinates:\n",
       "  * longitude  (longitude) float32 -123.96875 -123.90625 -123.84375 ...\n",
       "  * latitude   (latitude) float32 35.03125 35.09375 35.15625 35.21875 ...\n",
       "  * season     (season) object 'DJF' 'JJA' 'MAM' 'SON'"
      ]
     },
     "execution_count": 84,
     "metadata": {},
     "output_type": "execute_result"
    }
   ],
   "source": [
    "ds_pr_by_month = ds_pr['pr'].groupby('time.season').mean('time')\n",
    "ds_pr_future_by_month = ds_pr_future['pr'].groupby('time.season').mean('time')\n",
    "ds_pr_by_month"
   ]
  },
  {
   "cell_type": "code",
   "execution_count": 86,
   "metadata": {
    "scrolled": true
   },
   "outputs": [
    {
     "data": {
      "text/plain": [
       "<matplotlib.collections.QuadMesh at 0x31c2b45c0>"
      ]
     },
     "execution_count": 86,
     "metadata": {},
     "output_type": "execute_result"
    },
    {
     "data": {
      "image/png": "[encoded data removed]",
      "text/plain": [
       "<Figure size 432x288 with 2 Axes>"
      ]
     },
     "metadata": {},
     "output_type": "display_data"
    }
   ],
   "source": [
    "pr_range = ds_pr_future_by_month.sel(season='DJF') - ds_pr_by_month.sel(season='DJF')\n",
    "pr_range.plot()"
   ]
  },
  {
   "cell_type": "code",
   "execution_count": 68,
   "metadata": {},
   "outputs": [
    {
     "data": {
      "text/plain": [
       "<xarray.DataArray 'pr' (latitude: 128, longitude: 112)>\n",
       "array([[nan, nan, nan, ..., nan, nan, nan],\n",
       "       [nan, nan, nan, ..., nan, nan, nan],\n",
       "       [nan, nan, nan, ..., nan, nan, nan],\n",
       "       ...,\n",
       "       [nan, nan, nan, ..., nan, nan, nan],\n",
       "       [nan, nan, nan, ..., nan, nan, nan],\n",
       "       [nan, nan, nan, ..., nan, nan, nan]], dtype=float32)\n",
       "Coordinates:\n",
       "  * longitude  (longitude) float32 -123.96875 -123.90625 -123.84375 ...\n",
       "  * latitude   (latitude) float32 35.03125 35.09375 35.15625 35.21875 ..."
      ]
     },
     "execution_count": 68,
     "metadata": {},
     "output_type": "execute_result"
    }
   ],
   "source": [
    "pr_range"
   ]
  },
  {
   "cell_type": "code",
   "execution_count": null,
   "metadata": {},
   "outputs": [],
   "source": []
  }
 ],
 "metadata": {
  "kernelspec": {
   "display_name": "Python 3",
   "language": "python",
   "name": "python3"
  },
  "language_info": {
   "codemirror_mode": {
    "name": "ipython",
    "version": 3
   },
   "file_extension": ".py",
   "mimetype": "text/x-python",
   "name": "python",
   "nbconvert_exporter": "python",
   "pygments_lexer": "ipython3",
   "version": "3.6.5"
  }
 },
 "nbformat": 4,
 "nbformat_minor": 2
}
